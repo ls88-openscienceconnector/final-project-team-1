{
 "cells": [
  {
   "cell_type": "markdown",
   "metadata": {},
   "source": [
    "## Pre-Analysis Plan"
   ]
  },
  {
   "cell_type": "markdown",
   "metadata": {},
   "source": [
    "**Table of Contents**"
   ]
  },
  {
   "cell_type": "markdown",
   "metadata": {},
   "source": [
    "1. [Abstract](#Abstract)\n",
    "2. [Data](#Data)\n",
    "3. [Strategy](#Strategy)\n",
    "4. [Analysis](#Analysis)\n",
    "5. [Deliverables](#Deliverables)\n",
    "6. [Sources](#Sources)"
   ]
  },
  {
   "cell_type": "markdown",
   "metadata": {},
   "source": [
    "### Abstract\n",
    "This project attempts to reproduce analysis by Kenny Joseph and Lisa Friedland on a data set of Tweets associated with Fake News. The original analysis samples from US voter registration records to form a panel of a collection of tweets posted during the 2016 election season. The analysis found that this sample was significantly reflected by age, gender, race, and political affiliation. The study used a random sample of tweets to estimate the composition of each panel member's news feeds or their \"exposure.\" Moreover, the study separates 3 classes of fake news sources (black, orange, red) and compares the differences in the site's probability of publishing false information. \"Black\" websites are produced by journalists who publish exclusively fabricated stories. \"Red\" sites spread false info which is clear in their editing process. \"Orange\" sites spread false info from a systematically flawed process. The study plots Prevalence over time and concentration of fake news sources. This project analyzes the exposure to and sharing of fake news through data collected from Twitter and data by registered voters. These Twitter users are specific voters exposed to fake news, who helped endorse fake news, and the process that which fake news overlaps with factual news. This project analyzes the distribution of user interactions with fake news and looks at what types of voters have a tendency to these interactions."
   ]
  },
  {
   "cell_type": "markdown",
   "metadata": {},
   "source": [
    "### Data\n",
    "\n",
    "Figure 1 contains 3 smaller figures which extract data from 3 data sets: figure_1b_data.csv, figure_1c_data.csv, and figure_1d_data.csv. These data sets account for the daily counts of fake news quantities in accordance to voters’ exposure. The data sets include: number of days after election days, number of red, orange, and black fake news sites users are exposed to, the total number of exposures in one day, the date of this day, the percentages of all shares and exposures to red, orange, black, and fake news sites."
   ]
  },
  {
   "cell_type": "markdown",
   "metadata": {},
   "source": [
    "### Strategy\n",
    "First, we will load the data from the CSV files and explore this data. We will categorize the variables, sort the data, remove outliers in the data (such as, bot-like panel members in addition to exclusion criterion in paper), and then we will plot the relevant data (Website Exposures, Shares of Panel Members, Exposures of Panel Members, the Exposures per day). Then, we will observe if the percentage of fake news increases closer to the election by observing the inflection points in the plots.\n",
    "\n",
    "1. Upload csv files\n",
    "2. Remove outliers in data: bot-like panel members in addition to exclusion criterion in paper\n",
    "3. Plot Website Exposures\n",
    "4. Plot Shares of Panel Members\n",
    "5. Plot Exposures of Panel Members\n",
    "6. Plot the Exposures per day\n",
    "7. Observe data- inflection points"
   ]
  },
  {
   "cell_type": "markdown",
   "metadata": {},
   "source": [
    "### Analysis\n",
    "\n",
    "The analysis exists in exp_share_regressions/exp_share_reg.Rmd and shows the results of individual characteristics that are associated with the exposure and sharing of fake news. The paper’s sections 'who was exposed to fake news sources?' and 'who shared fake news sources?' also analyze the data. The analysis extracts the mean, lower and upper bound, percentiles, removes outliers in the process of data cleaning, and compares the distance of values from the average."
   ]
  },
  {
   "cell_type": "markdown",
   "metadata": {},
   "source": [
    "### Deliverables \n",
    "\n",
    "At the end of this project, we will present our findings in a presentation using Google slides. We will show the original and cleaned data sets in output folder and the pictures in images folder."
   ]
  },
  {
   "cell_type": "markdown",
   "metadata": {},
   "source": [
    "### Sources\n",
    "\n",
    "E. McKernon, Fake news and the public. Harper’s Magazine 151, 528–536 (1925).\n",
    "\n",
    "J. H. Kuklinski, P. J. Quirk, J. Jerit, D. Schwieder, R. F. Rich, Misinformation and the currency of democratic citizenship. J. Polit. 62, 790–816 (2000). doi:10.1111/0022-3816.00033\n",
    "\n",
    "C. Silverman, “This analysis shows how viral fake election news stories outperformed real news on Facebook” (2016)\n",
    "\n",
    "D. Ruths, J. Pfeffer, Social media for large studies of behavior. Science 346, 1063–1064 (2014). doi:10.1126/science.346.6213.1063pmid:25430759\n",
    "\n",
    "S. Vosoughi, D. Roy, S. Aral, The spread of true and false news online. Science 359, 1146–1151 (2018). doi:10.1126/science.aap9559pmid:29590045"
   ]
  },
  {
   "cell_type": "code",
   "execution_count": null,
   "metadata": {},
   "outputs": [],
   "source": []
  }
 ],
 "metadata": {
  "kernelspec": {
   "display_name": "Python 3",
   "language": "python",
   "name": "python3"
  },
  "language_info": {
   "codemirror_mode": {
    "name": "ipython",
    "version": 3
   },
   "file_extension": ".py",
   "mimetype": "text/x-python",
   "name": "python",
   "nbconvert_exporter": "python",
   "pygments_lexer": "ipython3",
   "version": "3.6.7"
  }
 },
 "nbformat": 4,
 "nbformat_minor": 2
}
