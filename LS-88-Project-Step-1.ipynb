{
 "cells": [
  {
   "cell_type": "markdown",
   "metadata": {},
   "source": [
    "## Step 1 Assignment "
   ]
  },
  {
   "cell_type": "markdown",
   "metadata": {},
   "source": [
    "#### 1. What is the quality (you can use F.A.I.R) of the information?"
   ]
  },
  {
   "cell_type": "markdown",
   "metadata": {},
   "source": [
    "F: The medata and data is easily findable because the readme file explicility states that the \"LA_CRS_recoded.dta\" dataset is used for all analyses.\n",
    "\n",
    "A: The data is accessible and retrievable because the identifier communicates includes the data as one of the files of the replication data. The file is named \"LA_CRS_recoded.tab\". The data will be accessible even when the data is no longer available because it is saved within the files of the dataverse.\n",
    "\n",
    "I: The data is interoperable because it is used for analysis and storage within the tables the replication process requires.\n",
    "\n",
    "R: The data is reusable because the \"SSQ - Louisiana Floods Replication.do\": Stata .do file contains all commands for replicating table and figure, and Supplemental Appendix analyses.\n"
   ]
  },
  {
   "cell_type": "markdown",
   "metadata": {},
   "source": [
    "#### 2. What is the provenance and collection method of the data?"
   ]
  },
  {
   "cell_type": "markdown",
   "metadata": {},
   "source": [
    "The data is collected using the analyses in \"Who'll Stop the Rain? Repeated Disasters and Attitudes Toward Government,\" published in Social Science Quarterly, by Joshua P. Darr, Sarah D. Cate, and Daniel S. Moak. "
   ]
  },
  {
   "cell_type": "markdown",
   "metadata": {},
   "source": [
    "#### 3. What are the hypotheses of the project?"
   ]
  },
  {
   "cell_type": "markdown",
   "metadata": {},
   "source": []
  },
  {
   "cell_type": "markdown",
   "metadata": {},
   "source": [
    "#### 4. What are the research methods?"
   ]
  },
  {
   "cell_type": "markdown",
   "metadata": {},
   "source": []
  },
  {
   "cell_type": "markdown",
   "metadata": {},
   "source": [
    "#### 5. What license is available?"
   ]
  },
  {
   "cell_type": "markdown",
   "metadata": {},
   "source": []
  },
  {
   "cell_type": "markdown",
   "metadata": {},
   "source": [
    "#### 6. Can you open the project files?"
   ]
  },
  {
   "cell_type": "markdown",
   "metadata": {},
   "source": []
  }
 ],
 "metadata": {
  "kernelspec": {
   "display_name": "Python 3",
   "language": "python",
   "name": "python3"
  },
  "language_info": {
   "codemirror_mode": {
    "name": "ipython",
    "version": 3
   },
   "file_extension": ".py",
   "mimetype": "text/x-python",
   "name": "python",
   "nbconvert_exporter": "python",
   "pygments_lexer": "ipython3",
   "version": "3.6.7"
  }
 },
 "nbformat": 4,
 "nbformat_minor": 2
}
